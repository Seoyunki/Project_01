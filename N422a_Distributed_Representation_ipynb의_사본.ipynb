{
  "cells": [
    {
      "cell_type": "markdown",
      "metadata": {
        "id": "view-in-github",
        "colab_type": "text"
      },
      "source": [
        "<a href=\"https://colab.research.google.com/github/Seoyunki/Project_01/blob/main/N422a_Distributed_Representation_ipynb%EC%9D%98_%EC%82%AC%EB%B3%B8.ipynb\" target=\"_parent\"><img src=\"https://colab.research.google.com/assets/colab-badge.svg\" alt=\"Open In Colab\"/></a>"
      ]
    },
    {
      "cell_type": "markdown",
      "metadata": {
        "id": "4GCEleoCVpbI"
      },
      "source": [
        "<img align=\"right\" src=\"https://ds-cs-images.s3.ap-northeast-2.amazonaws.com/Codestates_Fulllogo_Color.png\" width=100>\n",
        "\n",
        "## *AIB / SECTION 4 / SPRINT 2 / NOTE 2*\n",
        "\n",
        "# 📝 Assignment\n",
        "\n",
        "---\n",
        "\n",
        "\n",
        "# Distributed_Representation"
      ]
    },
    {
      "cell_type": "code",
      "source": [
        "from google.colab import drive\n",
        "drive.mount('/content/drive')"
      ],
      "metadata": {
        "colab": {
          "base_uri": "https://localhost:8080/"
        },
        "id": "gQUWODIvuNGf",
        "outputId": "9dbfd305-acb4-49dc-f443-ea61ea3e1680"
      },
      "execution_count": 2,
      "outputs": [
        {
          "output_type": "stream",
          "name": "stdout",
          "text": [
            "Drive already mounted at /content/drive; to attempt to forcibly remount, call drive.mount(\"/content/drive\", force_remount=True).\n"
          ]
        }
      ]
    },
    {
      "cell_type": "markdown",
      "metadata": {
        "id": "WCHZ5i-ReMD2"
      },
      "source": [
        "## Code"
      ]
    },
    {
      "cell_type": "markdown",
      "metadata": {
        "id": "Wz-FNnfdeQfF"
      },
      "source": [
        "캐글의 [SMS Spam dataset](https://www.kaggle.com/uciml/sms-spam-collection-dataset) 에 사전 학습된 Word2Vec 임베딩 벡터를 적용하여 분류해봅시다.<br/>\n",
        "세션 노트에 있었던 단어 임베딩 벡터를 평균내어 분류하는 방법을 적용해봅시다."
      ]
    },
    {
      "cell_type": "code",
      "execution_count": 3,
      "metadata": {
        "colab": {
          "base_uri": "https://localhost:8080/"
        },
        "id": "Bu5ftcG8goWU",
        "outputId": "fff277f5-8a20-4019-8fe4-06e2da2aa8f0"
      },
      "outputs": [
        {
          "output_type": "stream",
          "name": "stdout",
          "text": [
            "Looking in indexes: https://pypi.org/simple, https://us-python.pkg.dev/colab-wheels/public/simple/\n",
            "Requirement already satisfied: gensim in /usr/local/lib/python3.7/dist-packages (3.6.0)\n",
            "Collecting gensim\n",
            "  Downloading gensim-4.2.0-cp37-cp37m-manylinux_2_12_x86_64.manylinux2010_x86_64.whl (24.1 MB)\n",
            "\u001b[K     |████████████████████████████████| 24.1 MB 1.6 MB/s \n",
            "\u001b[?25hRequirement already satisfied: numpy>=1.17.0 in /usr/local/lib/python3.7/dist-packages (from gensim) (1.21.6)\n",
            "Requirement already satisfied: scipy>=0.18.1 in /usr/local/lib/python3.7/dist-packages (from gensim) (1.4.1)\n",
            "Requirement already satisfied: smart-open>=1.8.1 in /usr/local/lib/python3.7/dist-packages (from gensim) (5.2.1)\n",
            "Installing collected packages: gensim\n",
            "  Attempting uninstall: gensim\n",
            "    Found existing installation: gensim 3.6.0\n",
            "    Uninstalling gensim-3.6.0:\n",
            "      Successfully uninstalled gensim-3.6.0\n",
            "Successfully installed gensim-4.2.0\n"
          ]
        }
      ],
      "source": [
        "!pip install gensim --upgrade"
      ]
    },
    {
      "cell_type": "code",
      "execution_count": 4,
      "metadata": {
        "colab": {
          "base_uri": "https://localhost:8080/",
          "height": 35
        },
        "id": "CPg5ipdVgrKS",
        "outputId": "cde65839-8e3d-4d83-eea8-33485598af35"
      },
      "outputs": [
        {
          "output_type": "execute_result",
          "data": {
            "text/plain": [
              "'4.2.0'"
            ],
            "application/vnd.google.colaboratory.intrinsic+json": {
              "type": "string"
            }
          },
          "metadata": {},
          "execution_count": 4
        }
      ],
      "source": [
        "import gensim\n",
        "\n",
        "gensim.__version__"
      ]
    },
    {
      "cell_type": "code",
      "execution_count": 5,
      "metadata": {
        "id": "57YnoEphgtcL",
        "colab": {
          "base_uri": "https://localhost:8080/"
        },
        "outputId": "6e3db4eb-ad45-4f36-e7b5-fbd2427520ea"
      },
      "outputs": [
        {
          "output_type": "stream",
          "name": "stdout",
          "text": [
            "[==================================================] 100.0% 1662.8/1662.8MB downloaded\n"
          ]
        }
      ],
      "source": [
        "import gensim.downloader as api\n",
        "\n",
        "wv = api.load('word2vec-google-news-300')"
      ]
    },
    {
      "cell_type": "markdown",
      "metadata": {
        "id": "wb2Va7QjSU8q"
      },
      "source": [
        "### 1. Word2Vec과 코사인 유사도"
      ]
    },
    {
      "cell_type": "markdown",
      "metadata": {
        "id": "7mk4fxw-SU8q"
      },
      "source": [
        "word2vec을 이용해 구한 'data'와 'science'임베딩 값의 코사인 유사도를 구해보겠습니다. sklearn의 cosine_similarity를 이용하겠습니다."
      ]
    },
    {
      "cell_type": "code",
      "execution_count": 6,
      "metadata": {
        "id": "GQcFqzC7SU8r",
        "outputId": "10941696-4ce2-45eb-a8e4-2f24f1f87626",
        "colab": {
          "base_uri": "https://localhost:8080/"
        }
      },
      "outputs": [
        {
          "output_type": "stream",
          "name": "stdout",
          "text": [
            "0.1576\n"
          ]
        }
      ],
      "source": [
        "from sklearn.metrics.pairwise import cosine_similarity\n",
        "import numpy as np\n",
        "\n",
        "result = cosine_similarity([wv['data'], wv['science']])\n",
        "\n",
        "print(f'{result[1][0]:.4f}')"
      ]
    },
    {
      "cell_type": "markdown",
      "metadata": {
        "id": "UvQpZm5zSU8r"
      },
      "source": [
        "문항 1) 위에서 구한 코사인 유사도를 소수점 3째자리까지 입력하세요"
      ]
    },
    {
      "cell_type": "code",
      "execution_count": 7,
      "metadata": {
        "id": "O8Vw1n9ugZZy"
      },
      "outputs": [],
      "source": [
        "import numpy as np\n",
        "import pandas as pd\n",
        "import tensorflow as tf\n",
        "import matplotlib.pyplot as plt\n",
        "import seaborn as sns\n",
        "from sklearn.model_selection import train_test_split\n",
        "from sklearn.preprocessing import LabelEncoder\n",
        "\n",
        "from keras.preprocessing import sequence\n",
        "from tensorflow.keras.preprocessing.sequence import pad_sequences\n",
        "from tensorflow.keras.models import Sequential\n",
        "from tensorflow.keras.layers import Dense, Embedding, GlobalAveragePooling1D\n",
        "from tensorflow.keras.preprocessing.text import Tokenizer"
      ]
    },
    {
      "cell_type": "markdown",
      "metadata": {
        "id": "fIorM92zSU8r"
      },
      "source": [
        "### 2. 텍스트 분류"
      ]
    },
    {
      "cell_type": "markdown",
      "metadata": {
        "id": "qhsyLoZZv_RN"
      },
      "source": [
        "### 1) 데이터 전처리\n",
        "    \n",
        "- 데이터셋을 데이터프레임으로 읽어옵니다 `encoding = 'latin-1'` 을 사용합니다.\n",
        "- 필요없는 열(column)을 삭제합니다.\n",
        "- LabelEncoder를 사용하여 label 전처리를 해줍니다. "
      ]
    },
    {
      "cell_type": "code",
      "execution_count": 8,
      "metadata": {
        "colab": {
          "base_uri": "https://localhost:8080/",
          "height": 76,
          "resources": {
            "http://localhost:8080/nbextensions/google.colab/files.js": {
              "data": "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",
              "headers": [
                [
                  "content-type",
                  "application/javascript"
                ]
              ],
              "ok": true,
              "status": 200,
              "status_text": ""
            }
          }
        },
        "id": "tLVumDzBhD9p",
        "outputId": "901fa444-6793-45fd-d173-a5d9d7704583"
      },
      "outputs": [
        {
          "output_type": "display_data",
          "data": {
            "text/plain": [
              "<IPython.core.display.HTML object>"
            ],
            "text/html": [
              "\n",
              "     <input type=\"file\" id=\"files-c1e7d8e0-2bfc-46bf-af07-15e9352a0dc0\" name=\"files[]\" multiple disabled\n",
              "        style=\"border:none\" />\n",
              "     <output id=\"result-c1e7d8e0-2bfc-46bf-af07-15e9352a0dc0\">\n",
              "      Upload widget is only available when the cell has been executed in the\n",
              "      current browser session. Please rerun this cell to enable.\n",
              "      </output>\n",
              "      <script src=\"/nbextensions/google.colab/files.js\"></script> "
            ]
          },
          "metadata": {}
        },
        {
          "output_type": "stream",
          "name": "stdout",
          "text": [
            "Saving spam.csv to spam.csv\n"
          ]
        }
      ],
      "source": [
        "from google.colab import files\n",
        "\n",
        "file = files.upload()"
      ]
    },
    {
      "cell_type": "code",
      "source": [
        "df = pd.read_csv(\"spam.csv\", encoding='latin-1')"
      ],
      "metadata": {
        "id": "Jao4yEMWgnK2"
      },
      "execution_count": 9,
      "outputs": []
    },
    {
      "cell_type": "code",
      "source": [
        "df.head()"
      ],
      "metadata": {
        "id": "fAi2gL6hgtkY",
        "outputId": "1667a2e9-c539-49c7-f1ff-b01c7ca786d7",
        "colab": {
          "base_uri": "https://localhost:8080/",
          "height": 206
        }
      },
      "execution_count": 10,
      "outputs": [
        {
          "output_type": "execute_result",
          "data": {
            "text/plain": [
              "     v1                                                 v2 Unnamed: 2  \\\n",
              "0   ham  Go until jurong point, crazy.. Available only ...        NaN   \n",
              "1   ham                      Ok lar... Joking wif u oni...        NaN   \n",
              "2  spam  Free entry in 2 a wkly comp to win FA Cup fina...        NaN   \n",
              "3   ham  U dun say so early hor... U c already then say...        NaN   \n",
              "4   ham  Nah I don't think he goes to usf, he lives aro...        NaN   \n",
              "\n",
              "  Unnamed: 3 Unnamed: 4  \n",
              "0        NaN        NaN  \n",
              "1        NaN        NaN  \n",
              "2        NaN        NaN  \n",
              "3        NaN        NaN  \n",
              "4        NaN        NaN  "
            ],
            "text/html": [
              "\n",
              "  <div id=\"df-e417aa0f-4e10-492f-800a-17c1b5c2e079\">\n",
              "    <div class=\"colab-df-container\">\n",
              "      <div>\n",
              "<style scoped>\n",
              "    .dataframe tbody tr th:only-of-type {\n",
              "        vertical-align: middle;\n",
              "    }\n",
              "\n",
              "    .dataframe tbody tr th {\n",
              "        vertical-align: top;\n",
              "    }\n",
              "\n",
              "    .dataframe thead th {\n",
              "        text-align: right;\n",
              "    }\n",
              "</style>\n",
              "<table border=\"1\" class=\"dataframe\">\n",
              "  <thead>\n",
              "    <tr style=\"text-align: right;\">\n",
              "      <th></th>\n",
              "      <th>v1</th>\n",
              "      <th>v2</th>\n",
              "      <th>Unnamed: 2</th>\n",
              "      <th>Unnamed: 3</th>\n",
              "      <th>Unnamed: 4</th>\n",
              "    </tr>\n",
              "  </thead>\n",
              "  <tbody>\n",
              "    <tr>\n",
              "      <th>0</th>\n",
              "      <td>ham</td>\n",
              "      <td>Go until jurong point, crazy.. Available only ...</td>\n",
              "      <td>NaN</td>\n",
              "      <td>NaN</td>\n",
              "      <td>NaN</td>\n",
              "    </tr>\n",
              "    <tr>\n",
              "      <th>1</th>\n",
              "      <td>ham</td>\n",
              "      <td>Ok lar... Joking wif u oni...</td>\n",
              "      <td>NaN</td>\n",
              "      <td>NaN</td>\n",
              "      <td>NaN</td>\n",
              "    </tr>\n",
              "    <tr>\n",
              "      <th>2</th>\n",
              "      <td>spam</td>\n",
              "      <td>Free entry in 2 a wkly comp to win FA Cup fina...</td>\n",
              "      <td>NaN</td>\n",
              "      <td>NaN</td>\n",
              "      <td>NaN</td>\n",
              "    </tr>\n",
              "    <tr>\n",
              "      <th>3</th>\n",
              "      <td>ham</td>\n",
              "      <td>U dun say so early hor... U c already then say...</td>\n",
              "      <td>NaN</td>\n",
              "      <td>NaN</td>\n",
              "      <td>NaN</td>\n",
              "    </tr>\n",
              "    <tr>\n",
              "      <th>4</th>\n",
              "      <td>ham</td>\n",
              "      <td>Nah I don't think he goes to usf, he lives aro...</td>\n",
              "      <td>NaN</td>\n",
              "      <td>NaN</td>\n",
              "      <td>NaN</td>\n",
              "    </tr>\n",
              "  </tbody>\n",
              "</table>\n",
              "</div>\n",
              "      <button class=\"colab-df-convert\" onclick=\"convertToInteractive('df-e417aa0f-4e10-492f-800a-17c1b5c2e079')\"\n",
              "              title=\"Convert this dataframe to an interactive table.\"\n",
              "              style=\"display:none;\">\n",
              "        \n",
              "  <svg xmlns=\"http://www.w3.org/2000/svg\" height=\"24px\"viewBox=\"0 0 24 24\"\n",
              "       width=\"24px\">\n",
              "    <path d=\"M0 0h24v24H0V0z\" fill=\"none\"/>\n",
              "    <path d=\"M18.56 5.44l.94 2.06.94-2.06 2.06-.94-2.06-.94-.94-2.06-.94 2.06-2.06.94zm-11 1L8.5 8.5l.94-2.06 2.06-.94-2.06-.94L8.5 2.5l-.94 2.06-2.06.94zm10 10l.94 2.06.94-2.06 2.06-.94-2.06-.94-.94-2.06-.94 2.06-2.06.94z\"/><path d=\"M17.41 7.96l-1.37-1.37c-.4-.4-.92-.59-1.43-.59-.52 0-1.04.2-1.43.59L10.3 9.45l-7.72 7.72c-.78.78-.78 2.05 0 2.83L4 21.41c.39.39.9.59 1.41.59.51 0 1.02-.2 1.41-.59l7.78-7.78 2.81-2.81c.8-.78.8-2.07 0-2.86zM5.41 20L4 18.59l7.72-7.72 1.47 1.35L5.41 20z\"/>\n",
              "  </svg>\n",
              "      </button>\n",
              "      \n",
              "  <style>\n",
              "    .colab-df-container {\n",
              "      display:flex;\n",
              "      flex-wrap:wrap;\n",
              "      gap: 12px;\n",
              "    }\n",
              "\n",
              "    .colab-df-convert {\n",
              "      background-color: #E8F0FE;\n",
              "      border: none;\n",
              "      border-radius: 50%;\n",
              "      cursor: pointer;\n",
              "      display: none;\n",
              "      fill: #1967D2;\n",
              "      height: 32px;\n",
              "      padding: 0 0 0 0;\n",
              "      width: 32px;\n",
              "    }\n",
              "\n",
              "    .colab-df-convert:hover {\n",
              "      background-color: #E2EBFA;\n",
              "      box-shadow: 0px 1px 2px rgba(60, 64, 67, 0.3), 0px 1px 3px 1px rgba(60, 64, 67, 0.15);\n",
              "      fill: #174EA6;\n",
              "    }\n",
              "\n",
              "    [theme=dark] .colab-df-convert {\n",
              "      background-color: #3B4455;\n",
              "      fill: #D2E3FC;\n",
              "    }\n",
              "\n",
              "    [theme=dark] .colab-df-convert:hover {\n",
              "      background-color: #434B5C;\n",
              "      box-shadow: 0px 1px 3px 1px rgba(0, 0, 0, 0.15);\n",
              "      filter: drop-shadow(0px 1px 2px rgba(0, 0, 0, 0.3));\n",
              "      fill: #FFFFFF;\n",
              "    }\n",
              "  </style>\n",
              "\n",
              "      <script>\n",
              "        const buttonEl =\n",
              "          document.querySelector('#df-e417aa0f-4e10-492f-800a-17c1b5c2e079 button.colab-df-convert');\n",
              "        buttonEl.style.display =\n",
              "          google.colab.kernel.accessAllowed ? 'block' : 'none';\n",
              "\n",
              "        async function convertToInteractive(key) {\n",
              "          const element = document.querySelector('#df-e417aa0f-4e10-492f-800a-17c1b5c2e079');\n",
              "          const dataTable =\n",
              "            await google.colab.kernel.invokeFunction('convertToInteractive',\n",
              "                                                     [key], {});\n",
              "          if (!dataTable) return;\n",
              "\n",
              "          const docLinkHtml = 'Like what you see? Visit the ' +\n",
              "            '<a target=\"_blank\" href=https://colab.research.google.com/notebooks/data_table.ipynb>data table notebook</a>'\n",
              "            + ' to learn more about interactive tables.';\n",
              "          element.innerHTML = '';\n",
              "          dataTable['output_type'] = 'display_data';\n",
              "          await google.colab.output.renderOutput(dataTable, element);\n",
              "          const docLink = document.createElement('div');\n",
              "          docLink.innerHTML = docLinkHtml;\n",
              "          element.appendChild(docLink);\n",
              "        }\n",
              "      </script>\n",
              "    </div>\n",
              "  </div>\n",
              "  "
            ]
          },
          "metadata": {},
          "execution_count": 10
        }
      ]
    },
    {
      "cell_type": "code",
      "source": [
        "df = df[['v1', 'v2']]"
      ],
      "metadata": {
        "id": "R9kk2Xslgv2f"
      },
      "execution_count": 11,
      "outputs": []
    },
    {
      "cell_type": "code",
      "source": [
        "df.head()"
      ],
      "metadata": {
        "id": "Q3oVI9YqhX4t",
        "outputId": "f69174f4-a259-47a0-907c-a6119915c159",
        "colab": {
          "base_uri": "https://localhost:8080/",
          "height": 206
        }
      },
      "execution_count": 12,
      "outputs": [
        {
          "output_type": "execute_result",
          "data": {
            "text/plain": [
              "     v1                                                 v2\n",
              "0   ham  Go until jurong point, crazy.. Available only ...\n",
              "1   ham                      Ok lar... Joking wif u oni...\n",
              "2  spam  Free entry in 2 a wkly comp to win FA Cup fina...\n",
              "3   ham  U dun say so early hor... U c already then say...\n",
              "4   ham  Nah I don't think he goes to usf, he lives aro..."
            ],
            "text/html": [
              "\n",
              "  <div id=\"df-39522510-ffab-4582-997c-66f2d69ed5fb\">\n",
              "    <div class=\"colab-df-container\">\n",
              "      <div>\n",
              "<style scoped>\n",
              "    .dataframe tbody tr th:only-of-type {\n",
              "        vertical-align: middle;\n",
              "    }\n",
              "\n",
              "    .dataframe tbody tr th {\n",
              "        vertical-align: top;\n",
              "    }\n",
              "\n",
              "    .dataframe thead th {\n",
              "        text-align: right;\n",
              "    }\n",
              "</style>\n",
              "<table border=\"1\" class=\"dataframe\">\n",
              "  <thead>\n",
              "    <tr style=\"text-align: right;\">\n",
              "      <th></th>\n",
              "      <th>v1</th>\n",
              "      <th>v2</th>\n",
              "    </tr>\n",
              "  </thead>\n",
              "  <tbody>\n",
              "    <tr>\n",
              "      <th>0</th>\n",
              "      <td>ham</td>\n",
              "      <td>Go until jurong point, crazy.. Available only ...</td>\n",
              "    </tr>\n",
              "    <tr>\n",
              "      <th>1</th>\n",
              "      <td>ham</td>\n",
              "      <td>Ok lar... Joking wif u oni...</td>\n",
              "    </tr>\n",
              "    <tr>\n",
              "      <th>2</th>\n",
              "      <td>spam</td>\n",
              "      <td>Free entry in 2 a wkly comp to win FA Cup fina...</td>\n",
              "    </tr>\n",
              "    <tr>\n",
              "      <th>3</th>\n",
              "      <td>ham</td>\n",
              "      <td>U dun say so early hor... U c already then say...</td>\n",
              "    </tr>\n",
              "    <tr>\n",
              "      <th>4</th>\n",
              "      <td>ham</td>\n",
              "      <td>Nah I don't think he goes to usf, he lives aro...</td>\n",
              "    </tr>\n",
              "  </tbody>\n",
              "</table>\n",
              "</div>\n",
              "      <button class=\"colab-df-convert\" onclick=\"convertToInteractive('df-39522510-ffab-4582-997c-66f2d69ed5fb')\"\n",
              "              title=\"Convert this dataframe to an interactive table.\"\n",
              "              style=\"display:none;\">\n",
              "        \n",
              "  <svg xmlns=\"http://www.w3.org/2000/svg\" height=\"24px\"viewBox=\"0 0 24 24\"\n",
              "       width=\"24px\">\n",
              "    <path d=\"M0 0h24v24H0V0z\" fill=\"none\"/>\n",
              "    <path d=\"M18.56 5.44l.94 2.06.94-2.06 2.06-.94-2.06-.94-.94-2.06-.94 2.06-2.06.94zm-11 1L8.5 8.5l.94-2.06 2.06-.94-2.06-.94L8.5 2.5l-.94 2.06-2.06.94zm10 10l.94 2.06.94-2.06 2.06-.94-2.06-.94-.94-2.06-.94 2.06-2.06.94z\"/><path d=\"M17.41 7.96l-1.37-1.37c-.4-.4-.92-.59-1.43-.59-.52 0-1.04.2-1.43.59L10.3 9.45l-7.72 7.72c-.78.78-.78 2.05 0 2.83L4 21.41c.39.39.9.59 1.41.59.51 0 1.02-.2 1.41-.59l7.78-7.78 2.81-2.81c.8-.78.8-2.07 0-2.86zM5.41 20L4 18.59l7.72-7.72 1.47 1.35L5.41 20z\"/>\n",
              "  </svg>\n",
              "      </button>\n",
              "      \n",
              "  <style>\n",
              "    .colab-df-container {\n",
              "      display:flex;\n",
              "      flex-wrap:wrap;\n",
              "      gap: 12px;\n",
              "    }\n",
              "\n",
              "    .colab-df-convert {\n",
              "      background-color: #E8F0FE;\n",
              "      border: none;\n",
              "      border-radius: 50%;\n",
              "      cursor: pointer;\n",
              "      display: none;\n",
              "      fill: #1967D2;\n",
              "      height: 32px;\n",
              "      padding: 0 0 0 0;\n",
              "      width: 32px;\n",
              "    }\n",
              "\n",
              "    .colab-df-convert:hover {\n",
              "      background-color: #E2EBFA;\n",
              "      box-shadow: 0px 1px 2px rgba(60, 64, 67, 0.3), 0px 1px 3px 1px rgba(60, 64, 67, 0.15);\n",
              "      fill: #174EA6;\n",
              "    }\n",
              "\n",
              "    [theme=dark] .colab-df-convert {\n",
              "      background-color: #3B4455;\n",
              "      fill: #D2E3FC;\n",
              "    }\n",
              "\n",
              "    [theme=dark] .colab-df-convert:hover {\n",
              "      background-color: #434B5C;\n",
              "      box-shadow: 0px 1px 3px 1px rgba(0, 0, 0, 0.15);\n",
              "      filter: drop-shadow(0px 1px 2px rgba(0, 0, 0, 0.3));\n",
              "      fill: #FFFFFF;\n",
              "    }\n",
              "  </style>\n",
              "\n",
              "      <script>\n",
              "        const buttonEl =\n",
              "          document.querySelector('#df-39522510-ffab-4582-997c-66f2d69ed5fb button.colab-df-convert');\n",
              "        buttonEl.style.display =\n",
              "          google.colab.kernel.accessAllowed ? 'block' : 'none';\n",
              "\n",
              "        async function convertToInteractive(key) {\n",
              "          const element = document.querySelector('#df-39522510-ffab-4582-997c-66f2d69ed5fb');\n",
              "          const dataTable =\n",
              "            await google.colab.kernel.invokeFunction('convertToInteractive',\n",
              "                                                     [key], {});\n",
              "          if (!dataTable) return;\n",
              "\n",
              "          const docLinkHtml = 'Like what you see? Visit the ' +\n",
              "            '<a target=\"_blank\" href=https://colab.research.google.com/notebooks/data_table.ipynb>data table notebook</a>'\n",
              "            + ' to learn more about interactive tables.';\n",
              "          element.innerHTML = '';\n",
              "          dataTable['output_type'] = 'display_data';\n",
              "          await google.colab.output.renderOutput(dataTable, element);\n",
              "          const docLink = document.createElement('div');\n",
              "          docLink.innerHTML = docLinkHtml;\n",
              "          element.appendChild(docLink);\n",
              "        }\n",
              "      </script>\n",
              "    </div>\n",
              "  </div>\n",
              "  "
            ]
          },
          "metadata": {},
          "execution_count": 12
        }
      ]
    },
    {
      "cell_type": "code",
      "source": [
        "df.v1.value_counts()"
      ],
      "metadata": {
        "id": "taisWqk3hRNi",
        "outputId": "56119de6-8e0f-4570-9b1f-27c48f2b58d4",
        "colab": {
          "base_uri": "https://localhost:8080/"
        }
      },
      "execution_count": 13,
      "outputs": [
        {
          "output_type": "execute_result",
          "data": {
            "text/plain": [
              "ham     4825\n",
              "spam     747\n",
              "Name: v1, dtype: int64"
            ]
          },
          "metadata": {},
          "execution_count": 13
        }
      ]
    },
    {
      "cell_type": "code",
      "source": [
        "encoder = LabelEncoder()\n",
        "y = encoder.fit_transform(df.v1)"
      ],
      "metadata": {
        "id": "iytUGYtzkf_w"
      },
      "execution_count": 14,
      "outputs": []
    },
    {
      "cell_type": "code",
      "source": [
        "X = df['v2']"
      ],
      "metadata": {
        "id": "IKjYsLoihChd"
      },
      "execution_count": 15,
      "outputs": []
    },
    {
      "cell_type": "code",
      "source": [
        "X.shape"
      ],
      "metadata": {
        "id": "UfXGCW6sjBoG",
        "outputId": "fbedf65b-bf09-47c5-af40-b8f4cba3f5ea",
        "colab": {
          "base_uri": "https://localhost:8080/"
        }
      },
      "execution_count": 16,
      "outputs": [
        {
          "output_type": "execute_result",
          "data": {
            "text/plain": [
              "(5572,)"
            ]
          },
          "metadata": {},
          "execution_count": 16
        }
      ]
    },
    {
      "cell_type": "code",
      "source": [
        "y.shape"
      ],
      "metadata": {
        "id": "YuNN-Dd0jI7y",
        "outputId": "ea16f60b-b60a-495f-c95b-53154fe69c01",
        "colab": {
          "base_uri": "https://localhost:8080/"
        }
      },
      "execution_count": 17,
      "outputs": [
        {
          "output_type": "execute_result",
          "data": {
            "text/plain": [
              "(5572,)"
            ]
          },
          "metadata": {},
          "execution_count": 17
        }
      ]
    },
    {
      "cell_type": "markdown",
      "metadata": {
        "id": "mpQO0WYZv6oK"
      },
      "source": [
        "### 2) 텍스트 분류를 수행해주세요.\n",
        "\n",
        "- 데이터셋 split시 test_size의 비율은 15%로, `random_state = 42` 로 설정합니다. \n",
        "- Tokenizer의 `num_words = 1000` 으로 설정합니다.\n",
        "- pad_sequence의 `maxlen=150` 으로 설정합니다.\n",
        "- 학습 시, 파라미터는 `batch_size=64, epochs=10, validation_split=0.2` 로 설정합니다.\n",
        "- evaluate 했을 때의 loss와 accuarcy를 [loss, acc] 형태로 입력해주세요. Ex) [0.4321, 0.8765]"
      ]
    },
    {
      "cell_type": "code",
      "execution_count": 18,
      "metadata": {
        "id": "10NbWA4OghxX"
      },
      "outputs": [],
      "source": [
        "np.random.seed(42)\n",
        "tf.random.set_seed(42)"
      ]
    },
    {
      "cell_type": "code",
      "source": [
        "X_train, X_test, y_train, y_test = train_test_split(X, y, test_size=0.15, random_state=42, stratify=y )"
      ],
      "metadata": {
        "id": "fE7XJfLwqXnH"
      },
      "execution_count": 19,
      "outputs": []
    },
    {
      "cell_type": "code",
      "source": [
        "X_train.shape"
      ],
      "metadata": {
        "id": "SVoP8Lj6n1Ul",
        "outputId": "d57ba0be-7065-4abb-ce21-c2ee28605262",
        "colab": {
          "base_uri": "https://localhost:8080/"
        }
      },
      "execution_count": 20,
      "outputs": [
        {
          "output_type": "execute_result",
          "data": {
            "text/plain": [
              "(4736,)"
            ]
          },
          "metadata": {},
          "execution_count": 20
        }
      ]
    },
    {
      "cell_type": "code",
      "source": [
        "X_test.shape"
      ],
      "metadata": {
        "id": "Pl1071jgqdgn",
        "outputId": "3dd8ea45-aa64-4b4f-9b93-bc610d8982cd",
        "colab": {
          "base_uri": "https://localhost:8080/"
        }
      },
      "execution_count": 21,
      "outputs": [
        {
          "output_type": "execute_result",
          "data": {
            "text/plain": [
              "(836,)"
            ]
          },
          "metadata": {},
          "execution_count": 21
        }
      ]
    },
    {
      "cell_type": "code",
      "source": [
        "tokenizer = Tokenizer(num_words=1000)"
      ],
      "metadata": {
        "id": "6kOBSfo-qn6y"
      },
      "execution_count": 22,
      "outputs": []
    },
    {
      "cell_type": "code",
      "source": [
        "tokenizer.fit_on_texts(X_train)"
      ],
      "metadata": {
        "id": "SdbyYr8jsL7l"
      },
      "execution_count": 23,
      "outputs": []
    },
    {
      "cell_type": "code",
      "source": [
        "vocab_size = len(tokenizer.word_index) + 1\n",
        "vocab_size"
      ],
      "metadata": {
        "id": "GP96FIVksQ8k",
        "outputId": "7a181c57-7cb8-4962-cb9b-000bc3f1c30d",
        "colab": {
          "base_uri": "https://localhost:8080/"
        }
      },
      "execution_count": 24,
      "outputs": [
        {
          "output_type": "execute_result",
          "data": {
            "text/plain": [
              "8186"
            ]
          },
          "metadata": {},
          "execution_count": 24
        }
      ]
    },
    {
      "cell_type": "code",
      "source": [
        "X_train_encoded = tokenizer.texts_to_sequences(X_train)"
      ],
      "metadata": {
        "id": "Q6Qp5QygsV8u"
      },
      "execution_count": 25,
      "outputs": []
    },
    {
      "cell_type": "code",
      "source": [
        "max_len = max(len(sent) for sent in X_train_encoded)\n",
        "max_len"
      ],
      "metadata": {
        "id": "G_Q4Caa_sgWK",
        "outputId": "3dd114c0-095d-4b1f-9808-e3b535371c13",
        "colab": {
          "base_uri": "https://localhost:8080/"
        }
      },
      "execution_count": 26,
      "outputs": [
        {
          "output_type": "execute_result",
          "data": {
            "text/plain": [
              "172"
            ]
          },
          "metadata": {},
          "execution_count": 26
        }
      ]
    },
    {
      "cell_type": "code",
      "source": [
        "sent_lengths = [len(sent) for sent in X_train_encoded]\n",
        "np.mean(sent_lengths)"
      ],
      "metadata": {
        "id": "Q0sQ_adqsnRi",
        "outputId": "da2c6a4e-fdf4-4bde-c3e2-d1c16f34cee6",
        "colab": {
          "base_uri": "https://localhost:8080/"
        }
      },
      "execution_count": 27,
      "outputs": [
        {
          "output_type": "execute_result",
          "data": {
            "text/plain": [
              "12.666173986486486"
            ]
          },
          "metadata": {},
          "execution_count": 27
        }
      ]
    },
    {
      "cell_type": "code",
      "source": [
        "X_train_pad = pad_sequences(X_train_encoded, maxlen=150, padding='post')\n",
        "X_train_pad.shape"
      ],
      "metadata": {
        "id": "3gyuVqY6s69E",
        "outputId": "0e9c65a6-a914-4336-fe92-cec9ef1e97d7",
        "colab": {
          "base_uri": "https://localhost:8080/"
        }
      },
      "execution_count": 28,
      "outputs": [
        {
          "output_type": "execute_result",
          "data": {
            "text/plain": [
              "(4736, 150)"
            ]
          },
          "metadata": {},
          "execution_count": 28
        }
      ]
    },
    {
      "cell_type": "code",
      "source": [
        "embedding_matrix = np.zeros((vocab_size, 300))\n",
        "embedding_matrix.shape"
      ],
      "metadata": {
        "id": "chUdBjMynjxJ",
        "outputId": "b3f9240e-475f-47be-c94e-183485fa9ec4",
        "colab": {
          "base_uri": "https://localhost:8080/"
        }
      },
      "execution_count": 29,
      "outputs": [
        {
          "output_type": "execute_result",
          "data": {
            "text/plain": [
              "(8186, 300)"
            ]
          },
          "metadata": {},
          "execution_count": 29
        }
      ]
    },
    {
      "cell_type": "code",
      "source": [
        "def get_vector(word):\n",
        "  if word in wv:\n",
        "    return wv[word]\n",
        "  else:\n",
        "    return None\n",
        "  \n",
        "for word, i in tokenizer.word_index.items():\n",
        "  temp = get_vector(word)\n",
        "  if temp is not None:\n",
        "    embedding_matrix[i] = temp"
      ],
      "metadata": {
        "id": "CMx4TzSEoDYs"
      },
      "execution_count": 30,
      "outputs": []
    },
    {
      "cell_type": "code",
      "source": [
        "model = Sequential()\n",
        "model.add(Embedding(vocab_size, 300, weights=[embedding_matrix], input_length=150, trainable=False))\n",
        "model.add(GlobalAveragePooling1D())\n",
        "model.add(Dense(1, activation='sigmoid'))"
      ],
      "metadata": {
        "id": "FCBkZsHXokyp"
      },
      "execution_count": 31,
      "outputs": []
    },
    {
      "cell_type": "code",
      "source": [
        "model.compile(loss='binary_crossentropy', optimizer='adam', metrics=['acc'])\n",
        "model.fit(X_train_pad, y_train, batch_size=64, epochs=10, validation_split=0.2)"
      ],
      "metadata": {
        "id": "tRQLVEczpELI",
        "outputId": "68e87264-2013-4535-d626-4fa8929bb096",
        "colab": {
          "base_uri": "https://localhost:8080/"
        }
      },
      "execution_count": 32,
      "outputs": [
        {
          "output_type": "stream",
          "name": "stdout",
          "text": [
            "Epoch 1/10\n",
            "60/60 [==============================] - 2s 12ms/step - loss: 0.6692 - acc: 0.8685 - val_loss: 0.6513 - val_acc: 0.8544\n",
            "Epoch 2/10\n",
            "60/60 [==============================] - 1s 9ms/step - loss: 0.6330 - acc: 0.8688 - val_loss: 0.6192 - val_acc: 0.8544\n",
            "Epoch 3/10\n",
            "60/60 [==============================] - 1s 9ms/step - loss: 0.6019 - acc: 0.8688 - val_loss: 0.5920 - val_acc: 0.8544\n",
            "Epoch 4/10\n",
            "60/60 [==============================] - 1s 9ms/step - loss: 0.5752 - acc: 0.8688 - val_loss: 0.5685 - val_acc: 0.8544\n",
            "Epoch 5/10\n",
            "60/60 [==============================] - 1s 9ms/step - loss: 0.5522 - acc: 0.8688 - val_loss: 0.5482 - val_acc: 0.8544\n",
            "Epoch 6/10\n",
            "60/60 [==============================] - 1s 9ms/step - loss: 0.5322 - acc: 0.8688 - val_loss: 0.5310 - val_acc: 0.8544\n",
            "Epoch 7/10\n",
            "60/60 [==============================] - 1s 9ms/step - loss: 0.5151 - acc: 0.8688 - val_loss: 0.5160 - val_acc: 0.8544\n",
            "Epoch 8/10\n",
            "60/60 [==============================] - 1s 9ms/step - loss: 0.5002 - acc: 0.8688 - val_loss: 0.5032 - val_acc: 0.8544\n",
            "Epoch 9/10\n",
            "60/60 [==============================] - 1s 9ms/step - loss: 0.4872 - acc: 0.8688 - val_loss: 0.4920 - val_acc: 0.8544\n",
            "Epoch 10/10\n",
            "60/60 [==============================] - 1s 10ms/step - loss: 0.4758 - acc: 0.8688 - val_loss: 0.4820 - val_acc: 0.8544\n"
          ]
        },
        {
          "output_type": "execute_result",
          "data": {
            "text/plain": [
              "<keras.callbacks.History at 0x7fcfa2a8d910>"
            ]
          },
          "metadata": {},
          "execution_count": 32
        }
      ]
    },
    {
      "cell_type": "code",
      "source": [
        "X_test_encoded = tokenizer.texts_to_sequences(X_test)\n",
        "X_test_pad = pad_sequences(X_test_encoded, maxlen=150, padding='post')"
      ],
      "metadata": {
        "id": "Z2Ag1KM-toqy"
      },
      "execution_count": 33,
      "outputs": []
    },
    {
      "cell_type": "code",
      "source": [
        "model.evaluate(X_test_pad, y_test)"
      ],
      "metadata": {
        "id": "KzBZhPa3t9JG",
        "outputId": "7c75107a-d202-4a48-d9dc-d3600ec6a0a7",
        "colab": {
          "base_uri": "https://localhost:8080/"
        }
      },
      "execution_count": 34,
      "outputs": [
        {
          "output_type": "stream",
          "name": "stdout",
          "text": [
            "27/27 [==============================] - 0s 3ms/step - loss: 0.4698 - acc: 0.8660\n"
          ]
        },
        {
          "output_type": "execute_result",
          "data": {
            "text/plain": [
              "[0.4698384404182434, 0.8660287261009216]"
            ]
          },
          "metadata": {},
          "execution_count": 34
        }
      ]
    },
    {
      "cell_type": "markdown",
      "metadata": {
        "id": "_RbNhL1zSU8t"
      },
      "source": [
        "### 3)Word2Vec에서의 OOV 문제"
      ]
    },
    {
      "cell_type": "markdown",
      "metadata": {
        "id": "F6iQ3rbNSU8t"
      },
      "source": [
        "```\n",
        "def get_vector(word):\n",
        "    \"\"\"\n",
        "    해당 word가 word2vec에 있는 단어일 경우 임베딩 벡터를 반환\n",
        "    \"\"\"\n",
        "    if word in wv:\n",
        "        return wv[word]\n",
        "    else:\n",
        "        return None\n",
        " \n",
        "for word, i in tokenizer.word_index.items():\n",
        "    temp = get_vector(word)\n",
        "    if temp is not None:\n",
        "        embedding_matrix[i] = temp\n",
        "```\n",
        "Lecture Note에 있는 위의 코드를 변형하여, OOV 개수를 확인해주세요.\n",
        "- tokenizer는 위에서 활용한 tokenizer를 그대로 사용하겠습니다.\n",
        "- Tip : dictionary를 활용하거나, Counter를 활용해보세요."
      ]
    },
    {
      "cell_type": "code",
      "execution_count": 57,
      "metadata": {
        "id": "Y_ryXIGwznY8",
        "colab": {
          "base_uri": "https://localhost:8080/"
        },
        "outputId": "73f9d328-4ad2-4c8a-fb22-e70272383893"
      },
      "outputs": [
        {
          "output_type": "stream",
          "name": "stdout",
          "text": [
            "2663\n"
          ]
        }
      ],
      "source": [
        "### 이곳에서 과제를 수행해 주세요 ###\n",
        "\n",
        "def get_vector(word):\n",
        "    \"\"\"\n",
        "    해당 word가 word2vec에 있는 단어일 경우 임베딩 벡터를 반환\n",
        "    \"\"\"\n",
        "    if word in wv:\n",
        "        return wv[word]\n",
        "    else:\n",
        "        return None\n",
        "\n",
        "tokenizer = Tokenizer(num_words=1000)\n",
        "tokenizer.fit_on_texts(X)\n",
        "\n",
        "oov = {}\n",
        "keys = []\n",
        "for word, i in tokenizer.word_index.items():\n",
        "    temp = get_vector(word)\n",
        "    if temp is None:\n",
        "      if word not in keys:\n",
        "        oov[word] = 1\n",
        "        keys.append(word)\n",
        "      else:\n",
        "        oov[word] = oov[word] + 1\n",
        "    \n",
        "\n",
        "print(len(oov))"
      ]
    },
    {
      "cell_type": "code",
      "source": [
        "oov"
      ],
      "metadata": {
        "colab": {
          "base_uri": "https://localhost:8080/"
        },
        "id": "pHrB9r8V0ZJN",
        "outputId": "fc2df640-d0dc-413a-ce2e-f9d64fac8396"
      },
      "execution_count": 58,
      "outputs": [
        {
          "output_type": "execute_result",
          "data": {
            "text/plain": [
              "{'to': 1,\n",
              " 'a': 1,\n",
              " 'and': 1,\n",
              " 'of': 1,\n",
              " \"i'm\": 1,\n",
              " \"i'll\": 1,\n",
              " '150p': 1,\n",
              " \"i've\": 1,\n",
              " '50': 1,\n",
              " '16': 1,\n",
              " 'ìï': 1,\n",
              " '18': 1,\n",
              " 'thk': 1,\n",
              " 'å£1': 1,\n",
              " 'å£1000': 1,\n",
              " '150ppm': 1,\n",
              " '10': 1,\n",
              " 'didnt': 1,\n",
              " '000': 1,\n",
              " 'tmr': 1,\n",
              " 'å£100': 1,\n",
              " '500': 1,\n",
              " '10p': 1,\n",
              " 'colour': 1,\n",
              " 'å£5000': 1,\n",
              " \"''\": 1,\n",
              " '8007': 1,\n",
              " 'å£2000': 1,\n",
              " 'chikku': 1,\n",
              " 'å£500': 1,\n",
              " '86688': 1,\n",
              " \"c's\": 1,\n",
              " '750': 1,\n",
              " '11': 1,\n",
              " '12hrs': 1,\n",
              " '100': 1,\n",
              " 'pobox': 1,\n",
              " 'smth': 1,\n",
              " '08000930705': 1,\n",
              " 'mobileupd8': 1,\n",
              " 'goodmorning': 1,\n",
              " 'oredi': 1,\n",
              " 'suite342': 1,\n",
              " '2lands': 1,\n",
              " '08000839402': 1,\n",
              " 'å£3': 1,\n",
              " '\\x89û': 1,\n",
              " '30': 1,\n",
              " 'freemsg': 1,\n",
              " \"'\": 1,\n",
              " 'frnds': 1,\n",
              " 'ni8': 1,\n",
              " 'å£250': 1,\n",
              " 'savamob': 1,\n",
              " '0800': 1,\n",
              " '03': 1,\n",
              " 'mrng': 1,\n",
              " '87066': 1,\n",
              " 'bslvyl': 1,\n",
              " 'å£2': 1,\n",
              " '2003': 1,\n",
              " '800': 1,\n",
              " 'å£350': 1,\n",
              " \"i'd\": 1,\n",
              " '20': 1,\n",
              " 'askd': 1,\n",
              " 'call2optout': 1,\n",
              " '04': 1,\n",
              " '12': 1,\n",
              " 'abiola': 1,\n",
              " 'rply': 1,\n",
              " 'muz': 1,\n",
              " 'w1j6hl': 1,\n",
              " 'callertune': 1,\n",
              " 'custcare': 1,\n",
              " 'rakhesh': 1,\n",
              " 'ldn': 1,\n",
              " '00': 1,\n",
              " 'å£10': 1,\n",
              " 'getzed': 1,\n",
              " 'ntt': 1,\n",
              " 'doesnt': 1,\n",
              " 'mrt': 1,\n",
              " 'ldew': 1,\n",
              " 'å£200': 1,\n",
              " '11mths': 1,\n",
              " 'å£150': 1,\n",
              " 'age16': 1,\n",
              " '150': 1,\n",
              " '\\x89ûò': 1,\n",
              " 'comuk': 1,\n",
              " 'å£800': 1,\n",
              " '20p': 1,\n",
              " '87077': 1,\n",
              " 'ip4': 1,\n",
              " '5we': 1,\n",
              " '2004': 1,\n",
              " 'rcvd': 1,\n",
              " 'fullonsms': 1,\n",
              " '3030': 1,\n",
              " '02': 1,\n",
              " '50p': 1,\n",
              " \"t's\": 1,\n",
              " '25p': 1,\n",
              " '08712460324': 1,\n",
              " 'frens': 1,\n",
              " '0870': 1,\n",
              " '06': 1,\n",
              " \"joy's\": 1,\n",
              " 'bugis': 1,\n",
              " 'å£900': 1,\n",
              " 'bx420': 1,\n",
              " '10am': 1,\n",
              " '82277': 1,\n",
              " \"uk's\": 1,\n",
              " 'yijue': 1,\n",
              " '25': 1,\n",
              " 'kallis': 1,\n",
              " '08718720201': 1,\n",
              " 'tenerife': 1,\n",
              " '85023': 1,\n",
              " 'omw': 1,\n",
              " 'izzit': 1,\n",
              " 'shuhui': 1,\n",
              " '36504': 1,\n",
              " 'sk38xh': 1,\n",
              " 'alrite': 1,\n",
              " '1327': 1,\n",
              " 'croydon': 1,\n",
              " 'cr9': 1,\n",
              " '5wb': 1,\n",
              " \"wat's\": 1,\n",
              " 'vikky': 1,\n",
              " \"god's\": 1,\n",
              " '150pm': 1,\n",
              " 'don\\x89û÷t': 1,\n",
              " '08712300220': 1,\n",
              " '62468': 1,\n",
              " 'tncs': 1,\n",
              " 'aathi': 1,\n",
              " 'isnt': 1,\n",
              " '40gb': 1,\n",
              " 'aiyo': 1,\n",
              " '28': 1,\n",
              " 'evng': 1,\n",
              " 'txtauction': 1,\n",
              " 'pobox84': 1,\n",
              " 'w45wq': 1,\n",
              " 'norm150p': 1,\n",
              " 'sipix': 1,\n",
              " 'aiyah': 1,\n",
              " 'urawinner': 1,\n",
              " 'howz': 1,\n",
              " '08707509020': 1,\n",
              " '86021': 1,\n",
              " '09050090044': 1,\n",
              " 'toclaim': 1,\n",
              " 'pobox334': 1,\n",
              " 'stockport': 1,\n",
              " 'costå£1': 1,\n",
              " 'max10mins': 1,\n",
              " 'theatre': 1,\n",
              " 'nimya': 1,\n",
              " 'å£400': 1,\n",
              " 'thatåõs': 1,\n",
              " 'i\\x89û÷m': 1,\n",
              " 'urgnt': 1,\n",
              " '530': 1,\n",
              " 'ec2a': 1,\n",
              " '434': 1,\n",
              " '2optout': 1,\n",
              " '21': 1,\n",
              " 'themob': 1,\n",
              " 'sonyericsson': 1,\n",
              " 'geeee': 1,\n",
              " 'pobox36504w45wq': 1,\n",
              " 'donåõt': 1,\n",
              " 'prabha': 1,\n",
              " '83355': 1,\n",
              " '2mrw': 1,\n",
              " 'yogasana': 1,\n",
              " '1x150p': 1,\n",
              " 'euro2004': 1,\n",
              " '80062': 1,\n",
              " 'dload': 1,\n",
              " 'noline': 1,\n",
              " 'rentl': 1,\n",
              " 'xchat': 1,\n",
              " 'cbe': 1,\n",
              " 'callså£1': 1,\n",
              " '80488': 1,\n",
              " 'linerental': 1,\n",
              " 'aint': 1,\n",
              " 'centre': 1,\n",
              " '60p': 1,\n",
              " '05': 1,\n",
              " 'nvm': 1,\n",
              " 'armand': 1,\n",
              " \"''ok''\": 1,\n",
              " 'latr': 1,\n",
              " '3510i': 1,\n",
              " '300': 1,\n",
              " '87121': 1,\n",
              " '87575': 1,\n",
              " 'machan': 1,\n",
              " '786': 1,\n",
              " 'yetunde': 1,\n",
              " 'ansr': 1,\n",
              " 'tyrone': 1,\n",
              " 'netcollex': 1,\n",
              " '0808': 1,\n",
              " '145': 1,\n",
              " '4742': 1,\n",
              " '11pm': 1,\n",
              " 'recd': 1,\n",
              " 'com1win150ppmx3age16': 1,\n",
              " 'bcums': 1,\n",
              " 'kettoda': 1,\n",
              " 'belovd': 1,\n",
              " '08002986906': 1,\n",
              " '85': 1,\n",
              " '83600': 1,\n",
              " '1000s': 1,\n",
              " '1000': 1,\n",
              " '87131': 1,\n",
              " 'wc1n3xx': 1,\n",
              " \"'help'\": 1,\n",
              " '5000': 1,\n",
              " 'tcs': 1,\n",
              " 'cw25wx': 1,\n",
              " 'kusruthi': 1,\n",
              " 'mtmsgrcvd18': 1,\n",
              " 'i\\x89û÷ll': 1,\n",
              " '08715705022': 1,\n",
              " '24': 1,\n",
              " '542': 1,\n",
              " '81151': 1,\n",
              " '88039': 1,\n",
              " 'skilgme': 1,\n",
              " '08718727870': 1,\n",
              " 'm263uz': 1,\n",
              " '3qxj9': 1,\n",
              " '08702840625': 1,\n",
              " '9ae': 1,\n",
              " \"'t\": 1,\n",
              " 'aiyar': 1,\n",
              " 'wrc': 1,\n",
              " 'lucozade': 1,\n",
              " 'txtin': 1,\n",
              " '4info': 1,\n",
              " '08712405020': 1,\n",
              " 'favour': 1,\n",
              " 'jamster': 1,\n",
              " '3gbp': 1,\n",
              " 'moji': 1,\n",
              " 'msgrcvdhg': 1,\n",
              " 'aiya': 1,\n",
              " 'textpod': 1,\n",
              " '7250i': 1,\n",
              " 'w1jhl': 1,\n",
              " 'bishan': 1,\n",
              " '250': 1,\n",
              " 'iåõm': 1,\n",
              " '08001950382': 1,\n",
              " '87239': 1,\n",
              " '84199': 1,\n",
              " 'box39822': 1,\n",
              " 'w111wx': 1,\n",
              " 'ntwk': 1,\n",
              " 'frndship': 1,\n",
              " 'å£4': 1,\n",
              " '8552': 1,\n",
              " 'thangam': 1,\n",
              " 'grl': 1,\n",
              " '09061221066': 1,\n",
              " 'wylie': 1,\n",
              " '26': 1,\n",
              " 'taunton': 1,\n",
              " '440': 1,\n",
              " '21st': 1,\n",
              " '2005': 1,\n",
              " \"'melle\": 1,\n",
              " 'melle': 1,\n",
              " 'minnaminunginte': 1,\n",
              " 'nurungu': 1,\n",
              " 'vettam': 1,\n",
              " 'xuhui': 1,\n",
              " '09061209465': 1,\n",
              " 'suprman': 1,\n",
              " 'matrix3': 1,\n",
              " 'starwars3': 1,\n",
              " 'å£1500': 1,\n",
              " 'vava': 1,\n",
              " 'k52': 1,\n",
              " '45239': 1,\n",
              " 'apologise': 1,\n",
              " 'birla': 1,\n",
              " 'maneesha': 1,\n",
              " '89545': 1,\n",
              " '087187262701': 1,\n",
              " '50gbp': 1,\n",
              " 'mtmsg18': 1,\n",
              " 'avent': 1,\n",
              " '125gift': 1,\n",
              " 'ranjith': 1,\n",
              " '100percent': 1,\n",
              " 'gautham': 1,\n",
              " 'buzy': 1,\n",
              " '0845': 1,\n",
              " 'dear1': 1,\n",
              " 'best1': 1,\n",
              " 'clos1': 1,\n",
              " 'lvblefrnd': 1,\n",
              " 'jstfrnd': 1,\n",
              " 'cutefrnd': 1,\n",
              " 'lifpartnr': 1,\n",
              " 'swtheart': 1,\n",
              " 'bstfrnd': 1,\n",
              " 'm26': 1,\n",
              " '3uz': 1,\n",
              " \"friend's\": 1,\n",
              " 'favourite': 1,\n",
              " 'gudnite': 1,\n",
              " 'insha': 1,\n",
              " 'ptbo': 1,\n",
              " '4mths': 1,\n",
              " 'mobilesdirect': 1,\n",
              " '08000938767': 1,\n",
              " 'or2stoptxt': 1,\n",
              " 'chechi': 1,\n",
              " 'arng': 1,\n",
              " 'iouri': 1,\n",
              " 'oic': 1,\n",
              " 'å£75': 1,\n",
              " '1956669': 1,\n",
              " '0207': 1,\n",
              " 'boye': 1,\n",
              " 'fightng': 1,\n",
              " '123': 1,\n",
              " 'å£1450': 1,\n",
              " 'soryda': 1,\n",
              " 'ibhltd': 1,\n",
              " 'ldnw15h': 1,\n",
              " '09': 1,\n",
              " '0871': 1,\n",
              " 'box95qu': 1,\n",
              " '08717898035': 1,\n",
              " 'ummmmmaah': 1,\n",
              " 'tirupur': 1,\n",
              " 'it\\x89û÷s': 1,\n",
              " 'that\\x89û÷s': 1,\n",
              " '80878': 1,\n",
              " '2000': 1,\n",
              " \"mum's\": 1,\n",
              " '2morow': 1,\n",
              " '83222': 1,\n",
              " 'leona': 1,\n",
              " 'tlp': 1,\n",
              " 'we\\x89û÷re': 1,\n",
              " '31': 1,\n",
              " '89555': 1,\n",
              " 'textoperator': 1,\n",
              " 'csbcm4235wc1n3xx': 1,\n",
              " 'maxå£7': 1,\n",
              " 'tscs087147403231winawk': 1,\n",
              " '50perwksub': 1,\n",
              " 'subpoly': 1,\n",
              " '81618': 1,\n",
              " '220': 1,\n",
              " 'alfie': 1,\n",
              " \"moon's\": 1,\n",
              " 'm8s': 1,\n",
              " 'nokias': 1,\n",
              " '08701417012': 1,\n",
              " 'sk3': 1,\n",
              " '8wp': 1,\n",
              " \"jay's\": 1,\n",
              " 'shesil': 1,\n",
              " '10k': 1,\n",
              " \"'til\": 1,\n",
              " 'msging': 1,\n",
              " '88600': 1,\n",
              " '114': 1,\n",
              " '14': 1,\n",
              " 'tcr': 1,\n",
              " 'welp': 1,\n",
              " 'valid12hrs': 1,\n",
              " '15': 1,\n",
              " '09063458130': 1,\n",
              " 'polyph': 1,\n",
              " '84025': 1,\n",
              " '09061790121': 1,\n",
              " 'pocketbabe': 1,\n",
              " '87021': 1,\n",
              " '84128': 1,\n",
              " 'textcomp': 1,\n",
              " 'whenevr': 1,\n",
              " 'suntec': 1,\n",
              " 'phne': 1,\n",
              " 'girlfrnd': 1,\n",
              " 'grahmbell': 1,\n",
              " 'invnted': 1,\n",
              " 'goodnite': 1,\n",
              " 'addie': 1,\n",
              " '09066362231': 1,\n",
              " '07xxxxxxxxx': 1,\n",
              " 'minmobsmorelkpobox177hp51fl': 1,\n",
              " \"blake's\": 1,\n",
              " 'lotr': 1,\n",
              " 'ringtoneking': 1,\n",
              " '82242': 1,\n",
              " '81303': 1,\n",
              " '121': 1,\n",
              " '29': 1,\n",
              " 'payoh': 1,\n",
              " 'fathima': 1,\n",
              " '18yrs': 1,\n",
              " 'abta': 1,\n",
              " '80182': 1,\n",
              " '08452810073': 1,\n",
              " 'kadeem': 1,\n",
              " 'tscs': 1,\n",
              " 'skillgame': 1,\n",
              " '1winaweek': 1,\n",
              " '150ppermesssubscription': 1,\n",
              " 'calicut': 1,\n",
              " 'box97n7qp': 1,\n",
              " 'tessy': 1,\n",
              " 'shijas': 1,\n",
              " 'raji': 1,\n",
              " 'u4': 1,\n",
              " '88066': 1,\n",
              " '900': 1,\n",
              " 'iscoming': 1,\n",
              " '80082': 1,\n",
              " 'neighbour': 1,\n",
              " '09066612661': 1,\n",
              " '3lp': 1,\n",
              " \"when's\": 1,\n",
              " 'uks': 1,\n",
              " '2stoptxt': 1,\n",
              " 'å£33': 1,\n",
              " 'deliveredtomorrow': 1,\n",
              " 'åð': 1,\n",
              " '200': 1,\n",
              " 'dubsack': 1,\n",
              " 'senthil': 1,\n",
              " 'forevr': 1,\n",
              " 'haiz': 1,\n",
              " \"dsn't\": 1,\n",
              " 'ì©': 1,\n",
              " \"08452810075over18's\": 1,\n",
              " 'rcv': 1,\n",
              " 'receivea': 1,\n",
              " '09061701461': 1,\n",
              " 'kl341': 1,\n",
              " '08002986030': 1,\n",
              " 'csh11': 1,\n",
              " '6days': 1,\n",
              " 'tsandcs': 1,\n",
              " '81010': 1,\n",
              " 'dbuk': 1,\n",
              " 'lccltd': 1,\n",
              " '4403ldnw1a7rw18': 1,\n",
              " 'xxxmobilemovieclub': 1,\n",
              " '4txt': 1,\n",
              " 'å£5': 1,\n",
              " \"roommate's\": 1,\n",
              " 'sptv': 1,\n",
              " '09066364589': 1,\n",
              " 'eurodisinc': 1,\n",
              " 'aco': 1,\n",
              " 'entry41': 1,\n",
              " 'morefrmmob': 1,\n",
              " 'shracomorsglsuplt': 1,\n",
              " 'ls1': 1,\n",
              " '3aj': 1,\n",
              " 'nitros': 1,\n",
              " '169': 1,\n",
              " '6031': 1,\n",
              " '85069': 1,\n",
              " '\\rham': 1,\n",
              " '09064012160': 1,\n",
              " 'goodo': 1,\n",
              " '07742676969': 1,\n",
              " '08719180248': 1,\n",
              " '350': 1,\n",
              " 'algarve': 1,\n",
              " '69888': 1,\n",
              " '31p': 1,\n",
              " '08700621170150p': 1,\n",
              " '0871277810810': 1,\n",
              " 'bootydelious': 1,\n",
              " 'keralacircle': 1,\n",
              " 'horo': 1,\n",
              " '447801259231': 1,\n",
              " '09058094597': 1,\n",
              " 'drpd': 1,\n",
              " 'deeraj': 1,\n",
              " '2wks': 1,\n",
              " 'suzy': 1,\n",
              " '69698': 1,\n",
              " '021': 1,\n",
              " '3680': 1,\n",
              " '82468': 1,\n",
              " 'tahan': 1,\n",
              " '0844': 1,\n",
              " '861': 1,\n",
              " 'tissco': 1,\n",
              " 'tayseer': 1,\n",
              " 'recognise': 1,\n",
              " 'n9dx': 1,\n",
              " '30ish': 1,\n",
              " 'inshah': 1,\n",
              " 'loxahatchee': 1,\n",
              " 'box334sk38ch': 1,\n",
              " 'whatsup': 1,\n",
              " '80086': 1,\n",
              " 'txttowin': 1,\n",
              " 'name1': 1,\n",
              " 'name2': 1,\n",
              " 'mobno': 1,\n",
              " '07123456789': 1,\n",
              " 'txtno': 1,\n",
              " 'siva': 1,\n",
              " '3650': 1,\n",
              " '09066382422': 1,\n",
              " '300603': 1,\n",
              " 'bcm4284': 1,\n",
              " 'applebees': 1,\n",
              " '153': 1,\n",
              " '26th': 1,\n",
              " '09061743806': 1,\n",
              " 'box326': 1,\n",
              " '07781482378': 1,\n",
              " '7ish': 1,\n",
              " '09050002311': 1,\n",
              " 'b4280703': 1,\n",
              " '08718727868': 1,\n",
              " \"dat's\": 1,\n",
              " '872': 1,\n",
              " '24hrs': 1,\n",
              " '08718738001': 1,\n",
              " '2stop': 1,\n",
              " 'geeeee': 1,\n",
              " 'call09050000327': 1,\n",
              " '08712402050': 1,\n",
              " '10ppm': 1,\n",
              " '0825': 1,\n",
              " '22': 1,\n",
              " 'textbuddy': 1,\n",
              " 'gaytextbuddy': 1,\n",
              " '89693': 1,\n",
              " '4882': 1,\n",
              " '09064019014': 1,\n",
              " 'expressoffer': 1,\n",
              " '40533': 1,\n",
              " 'rstm': 1,\n",
              " 'sw7': 1,\n",
              " '3ss': 1,\n",
              " 'cochin': 1,\n",
              " 'aeroplane': 1,\n",
              " 'å£1250': 1,\n",
              " '09071512433': 1,\n",
              " '050703': 1,\n",
              " 'callcost': 1,\n",
              " 'mobilesvary': 1,\n",
              " 'nokia6650': 1,\n",
              " 'ctxt': 1,\n",
              " 'mtmsg': 1,\n",
              " '930': 1,\n",
              " '08706091795': 1,\n",
              " '40': 1,\n",
              " '0578': 1,\n",
              " 'petey': 1,\n",
              " '8077': 1,\n",
              " 'cashto': 1,\n",
              " '08000407165': 1,\n",
              " 'getstop': 1,\n",
              " '88222': 1,\n",
              " 'galileo': 1,\n",
              " 'loveme': 1,\n",
              " 'mojibiola': 1,\n",
              " '09065174042': 1,\n",
              " '07821230901': 1,\n",
              " 'havenåõt': 1,\n",
              " 'aburo': 1,\n",
              " '08002888812': 1,\n",
              " '09066350750': 1,\n",
              " 'smsco': 1,\n",
              " '41685': 1,\n",
              " '07': 1,\n",
              " '09064011000': 1,\n",
              " 'cr01327bt': 1,\n",
              " '09058094565': 1,\n",
              " '09065171142': 1,\n",
              " 'stopsms': 1,\n",
              " '08': 1,\n",
              " '08709222922': 1,\n",
              " 'yck': 1,\n",
              " '09050001808': 1,\n",
              " 'm95': 1,\n",
              " 'borin': 1,\n",
              " '65': 1,\n",
              " 'datebox1282essexcm61xn': 1,\n",
              " 'ls15hb': 1,\n",
              " \"1000's\": 1,\n",
              " 'eastenders': 1,\n",
              " 'wkent': 1,\n",
              " '150p16': 1,\n",
              " '09058091854': 1,\n",
              " 'box385': 1,\n",
              " 'm6': 1,\n",
              " '6wu': 1,\n",
              " '09050003091': 1,\n",
              " 'c52': 1,\n",
              " '09061221061': 1,\n",
              " '28days': 1,\n",
              " 'box177': 1,\n",
              " 'm221bp': 1,\n",
              " 'på£3': 1,\n",
              " '99': 1,\n",
              " 'durban': 1,\n",
              " 'speedchat': 1,\n",
              " '08000776320': 1,\n",
              " '4fil': 1,\n",
              " 'drms': 1,\n",
              " '61200': 1,\n",
              " 'neft': 1,\n",
              " 'subs16': 1,\n",
              " '1win150ppmx3': 1,\n",
              " '08719181513': 1,\n",
              " \"1's\": 1,\n",
              " 'minmoremobsemspobox45po139wa': 1,\n",
              " 'nydc': 1,\n",
              " 'lionm': 1,\n",
              " 'lionp': 1,\n",
              " 'colours': 1,\n",
              " 'remembr': 1,\n",
              " 'goodnoon': 1,\n",
              " 'free2day': 1,\n",
              " \"george's\": 1,\n",
              " '89080': 1,\n",
              " '0870241182716': 1,\n",
              " '08718730666': 1,\n",
              " 'lf56': 1,\n",
              " 'tlk': 1,\n",
              " 'tirunelvali': 1,\n",
              " 'sinco': 1,\n",
              " 'icicibank': 1,\n",
              " 'kaiez': 1,\n",
              " 'lyfu': 1,\n",
              " 'lyf': 1,\n",
              " 'musthu': 1,\n",
              " 'jsco': 1,\n",
              " 'rael': 1,\n",
              " 'exmpel': 1,\n",
              " 'evrey': 1,\n",
              " 'splleing': 1,\n",
              " 'wrnog': 1,\n",
              " 'wihtuot': 1,\n",
              " 'mitsake': 1,\n",
              " 'rumour': 1,\n",
              " '7250': 1,\n",
              " 'smeone': 1,\n",
              " 'dippeditinadew': 1,\n",
              " 'itwhichturnedinto': 1,\n",
              " 'tomeandsaid': 1,\n",
              " \"'simple'\": 1,\n",
              " '09058094599': 1,\n",
              " 'sw73ss': 1,\n",
              " 'addamsfa': 1,\n",
              " 'munsters': 1,\n",
              " 'msg150p': 1,\n",
              " '2rcv': 1,\n",
              " '08712317606': 1,\n",
              " '80608': 1,\n",
              " 'movietrivia': 1,\n",
              " '08712405022': 1,\n",
              " 'å£6': 1,\n",
              " 'wkg': 1,\n",
              " '09094646899': 1,\n",
              " 'bcm1896wc1n3xx': 1,\n",
              " '2007': 1,\n",
              " \"'maangalyam\": 1,\n",
              " 'alaipayuthe': 1,\n",
              " 'callfreefone': 1,\n",
              " '08081560665': 1,\n",
              " 'ofå£2000': 1,\n",
              " '07786200117': 1,\n",
              " 'up4': 1,\n",
              " 'mandan': 1,\n",
              " '07734396839': 1,\n",
              " 'ibh': 1,\n",
              " 'nokia6600': 1,\n",
              " 'transfr': 1,\n",
              " 'didnåõt': 1,\n",
              " '82050': 1,\n",
              " '3100': 1,\n",
              " 'g696ga': 1,\n",
              " '12mths': 1,\n",
              " 'waheed': 1,\n",
              " '0776xxxxxxx': 1,\n",
              " '326': 1,\n",
              " 'vday': 1,\n",
              " \"there're\": 1,\n",
              " 'fujitsu': 1,\n",
              " '09066358152': 1,\n",
              " '61610': 1,\n",
              " '08712400602450p': 1,\n",
              " 'tones2you': 1,\n",
              " '08006344447': 1,\n",
              " 'aom': 1,\n",
              " 'parco': 1,\n",
              " 'hallaq': 1,\n",
              " 'sleepwell': 1,\n",
              " 'mca': 1,\n",
              " '113': 1,\n",
              " 'wicklow': 1,\n",
              " 'eire': 1,\n",
              " 'idew': 1,\n",
              " 'mcat': 1,\n",
              " '27': 1,\n",
              " '2morro': 1,\n",
              " '300p': 1,\n",
              " '01223585334': 1,\n",
              " '2end': 1,\n",
              " '88877': 1,\n",
              " '700': 1,\n",
              " 'bedrm': 1,\n",
              " 'upd8': 1,\n",
              " '21870000': 1,\n",
              " '09056242159': 1,\n",
              " 'hrishi': 1,\n",
              " '008704050406': 1,\n",
              " 'zindgi': 1,\n",
              " '08701417012150p': 1,\n",
              " 'gamestar': 1,\n",
              " 'å£250k': 1,\n",
              " '88088': 1,\n",
              " 'propsd': 1,\n",
              " 'lttrs': 1,\n",
              " \"'hw\": 1,\n",
              " '2gthr': 1,\n",
              " 'evrydy': 1,\n",
              " 'wiskey': 1,\n",
              " 'shampain': 1,\n",
              " 'yarasu': 1,\n",
              " 'dhina': 1,\n",
              " 'vaazhthukkal': 1,\n",
              " 'rgds': 1,\n",
              " '630': 1,\n",
              " 'acl03530150pm': 1,\n",
              " 'indyarocks': 1,\n",
              " 'yunny': 1,\n",
              " '83383': 1,\n",
              " 'txt82228': 1,\n",
              " 'picsfree1': 1,\n",
              " '2marrow': 1,\n",
              " 'tiwary': 1,\n",
              " 'pandy': 1,\n",
              " '69696': 1,\n",
              " 'northampton': 1,\n",
              " 'abj': 1,\n",
              " 'thgt': 1,\n",
              " 'å£50': 1,\n",
              " 'interflora': 1,\n",
              " '09058099801': 1,\n",
              " 'b4190604': 1,\n",
              " '7876150ppm': 1,\n",
              " 'bbd': 1,\n",
              " '88888': 1,\n",
              " 'helloooo': 1,\n",
              " '2geva': 1,\n",
              " 'pt2': 1,\n",
              " 'visionsms': 1,\n",
              " 'andros': 1,\n",
              " 'vth': 1,\n",
              " 'eveb': 1,\n",
              " '08708034412': 1,\n",
              " 'cancelled': 1,\n",
              " 'lookatme': 1,\n",
              " 'agalla': 1,\n",
              " 'otside': 1,\n",
              " '08712101358': 1,\n",
              " 'itåõs': 1,\n",
              " 'jiayin': 1,\n",
              " 'pobox45w2tg150p': 1,\n",
              " '2waxsto': 1,\n",
              " '1030': 1,\n",
              " '447797706009': 1,\n",
              " \"priscilla's\": 1,\n",
              " 'wan2': 1,\n",
              " 'westlife': 1,\n",
              " '83049': 1,\n",
              " 'cdgt': 1,\n",
              " 'didn\\x89û÷t': 1,\n",
              " '69669': 1,\n",
              " 'mumtaz': 1,\n",
              " \"mumtaz's\": 1,\n",
              " 'o2fwd': 1,\n",
              " '18p': 1,\n",
              " 'kavalan': 1,\n",
              " 'langport': 1,\n",
              " 'båõday': 1,\n",
              " 'vewy': 1,\n",
              " 'x49': 1,\n",
              " '09065989182': 1,\n",
              " \"'terrorist'\": 1,\n",
              " 'confirmd': 1,\n",
              " 'hppnss': 1,\n",
              " 'goodfriend': 1,\n",
              " 'age23': 1,\n",
              " 'mtalk': 1,\n",
              " '69866': 1,\n",
              " '30pp': 1,\n",
              " '5free': 1,\n",
              " 'help08718728876': 1,\n",
              " 'tones2u': 1,\n",
              " \"weekend's\": 1,\n",
              " 'tnc': 1,\n",
              " 'tms': 1,\n",
              " 'widelive': 1,\n",
              " 'wml': 1,\n",
              " '09061702893': 1,\n",
              " '09061743386': 1,\n",
              " '674': 1,\n",
              " '0871750': 1,\n",
              " '77': 1,\n",
              " '09066364311': 1,\n",
              " 'sathya': 1,\n",
              " '2find': 1,\n",
              " 'natalja': 1,\n",
              " 'nat27081980': 1,\n",
              " 'mokka': 1,\n",
              " '09061744553': 1,\n",
              " 'polyh': 1,\n",
              " 'mesages': 1,\n",
              " '373': 1,\n",
              " 'w1j': 1,\n",
              " '6hl': 1,\n",
              " '02073162414': 1,\n",
              " '89070': 1,\n",
              " 'realise': 1,\n",
              " '86888': 1,\n",
              " 'subscribe6gbp': 1,\n",
              " 'txtstop': 1,\n",
              " '09066380611': 1,\n",
              " 'cashbin': 1,\n",
              " '08718726270': 1,\n",
              " 'nuther': 1,\n",
              " '910': 1,\n",
              " 'goldviking': 1,\n",
              " '762': 1,\n",
              " '13': 1,\n",
              " '165': 1,\n",
              " 'slp': 1,\n",
              " 'muah': 1,\n",
              " 'scotsman': 1,\n",
              " 'notxt': 1,\n",
              " '09061213237': 1,\n",
              " '177': 1,\n",
              " 'm227xy': 1,\n",
              " 'gr8prizes': 1,\n",
              " 'jurong': 1,\n",
              " 'chgs': 1,\n",
              " 'fulfil': 1,\n",
              " 'qjkgighjjgcbl': 1,\n",
              " 'ì¼1': 1,\n",
              " 'poboxox36504w45wq': 1,\n",
              " 'ffffffffff': 1,\n",
              " 'spoilt': 1,\n",
              " '07732584351': 1,\n",
              " 'rodger': 1,\n",
              " 'immunisation': 1,\n",
              " 'thinked': 1,\n",
              " 'mallika': 1,\n",
              " 'sherawat': 1,\n",
              " 'gauti': 1,\n",
              " \"ken's\": 1,\n",
              " \"ta's\": 1,\n",
              " 'you\\x89û÷ll': 1,\n",
              " 'stuff42moro': 1,\n",
              " '4the': 1,\n",
              " 'minecraft': 1,\n",
              " '0871277810910p': 1,\n",
              " '09064019788': 1,\n",
              " 'box42wr29c': 1,\n",
              " '7548': 1,\n",
              " '4041': 1,\n",
              " 'lucyxx': 1,\n",
              " 'tmorrow': 1,\n",
              " '69988': 1,\n",
              " 'ummma': 1,\n",
              " 'sindu': 1,\n",
              " 'nevering': 1,\n",
              " 'aaooooright': 1,\n",
              " '07046744435': 1,\n",
              " \"see's\": 1,\n",
              " '32': 1,\n",
              " 'bangbabes': 1,\n",
              " 'bangb': 1,\n",
              " '09061701939': 1,\n",
              " 's89': 1,\n",
              " 'missunderstding': 1,\n",
              " '30th': 1,\n",
              " 'areyouunique': 1,\n",
              " 'babyjontet': 1,\n",
              " 'ubandu': 1,\n",
              " 'flyng': 1,\n",
              " 'elama': 1,\n",
              " 'mudyadhu': 1,\n",
              " 'gandhipuram': 1,\n",
              " 'thirtyeight': 1,\n",
              " 'pleassssssseeeeee': 1,\n",
              " 'sportsx': 1,\n",
              " 'baig': 1,\n",
              " 'nipost': 1,\n",
              " 'luton': 1,\n",
              " '0125698789': 1,\n",
              " 'sometme': 1,\n",
              " 'club4mobiles': 1,\n",
              " '87070': 1,\n",
              " 'club4': 1,\n",
              " 'box1146': 1,\n",
              " 'mk45': 1,\n",
              " '2wt': 1,\n",
              " 'varunnathu': 1,\n",
              " 'edukkukayee': 1,\n",
              " 'ollu': 1,\n",
              " '28thfeb': 1,\n",
              " 'womdarfull': 1,\n",
              " 'rodds1': 1,\n",
              " 'icmb3cktz8r7': 1,\n",
              " 'remb': 1,\n",
              " '85222': 1,\n",
              " 'winnersclub': 1,\n",
              " '84': 1,\n",
              " 'gbp1': 1,\n",
              " \"employer's\": 1,\n",
              " 'daaaaa': 1,\n",
              " 'huiming': 1,\n",
              " 'sextextuk': 1,\n",
              " 'xxuk': 1,\n",
              " '69876': 1,\n",
              " 'jeremiah': 1,\n",
              " 'onam': 1,\n",
              " 'sirji': 1,\n",
              " '08708800282': 1,\n",
              " \"audrey's\": 1,\n",
              " 'f4q': 1,\n",
              " 'rp176781': 1,\n",
              " 'regalportfolio': 1,\n",
              " '08717205546': 1,\n",
              " 't91': 1,\n",
              " '09057039994': 1,\n",
              " 'rinu': 1,\n",
              " 'prabu': 1,\n",
              " '945': 1,\n",
              " 'wahleykkum': 1,\n",
              " '2814032': 1,\n",
              " '3xå£150pw': 1,\n",
              " 'eå£nd': 1,\n",
              " 'busetop': 1,\n",
              " 'okies': 1,\n",
              " '09064012103': 1,\n",
              " '09111032124': 1,\n",
              " 'pobox12n146tf150p': 1,\n",
              " '09058094455': 1,\n",
              " 'hillsborough': 1,\n",
              " 'hasnt': 1,\n",
              " 'werethe': 1,\n",
              " 'monkeespeople': 1,\n",
              " 'monkeyaround': 1,\n",
              " 'lotsly': 1,\n",
              " 'upgrdcentre': 1,\n",
              " '9153': 1,\n",
              " 'okmail': 1,\n",
              " '69888nyt': 1,\n",
              " \"when're\": 1,\n",
              " 'mcr': 1,\n",
              " 'jaykwon': 1,\n",
              " 'thuglyfe': 1,\n",
              " 'falconerf': 1,\n",
              " 'ralphs': 1,\n",
              " \"account's\": 1,\n",
              " 'accenture': 1,\n",
              " 'nuerologist': 1,\n",
              " 'lolnice': 1,\n",
              " 'westshore': 1,\n",
              " \"g's\": 1,\n",
              " 'boltblue': 1,\n",
              " 'poly3': 1,\n",
              " 'bubbletext': 1,\n",
              " 'tgxxrz': 1,\n",
              " '9755': 1,\n",
              " \"x'mas\": 1,\n",
              " 'faggot': 1,\n",
              " '07815296484': 1,\n",
              " '41782': 1,\n",
              " ...}"
            ]
          },
          "metadata": {},
          "execution_count": 58
        }
      ]
    }
  ],
  "metadata": {
    "colab": {
      "collapsed_sections": [],
      "name": "N422a_Distributed_Representation.ipynb의 사본",
      "provenance": [],
      "include_colab_link": true
    },
    "kernel_info": {
      "name": "python3"
    },
    "kernelspec": {
      "display_name": "Python 3 (ipykernel)",
      "language": "python",
      "name": "python3"
    },
    "language_info": {
      "codemirror_mode": {
        "name": "ipython",
        "version": 3
      },
      "file_extension": ".py",
      "mimetype": "text/x-python",
      "name": "python",
      "nbconvert_exporter": "python",
      "pygments_lexer": "ipython3",
      "version": "3.8.10"
    },
    "nteract": {
      "version": "0.14.3"
    }
  },
  "nbformat": 4,
  "nbformat_minor": 0
}